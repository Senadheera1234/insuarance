{
 "cells": [
  {
   "cell_type": "markdown",
   "id": "d9c359d2-cca7-49f4-8126-981fe5abee82",
   "metadata": {},
   "source": [
    "# Table of Contents\n",
    "1. [Introduction](#Introduction)\n",
    "   - [Stakeholders and Motivation](#Stakeholders-and-Motivation)\n",
    "   - [Research Questions](#Research-Questions)\n",
    "   - [Goals](#Goals)\n",
    "   - [Dataset Overview](#Dataset-Overview)\n",
    "2. [Exploratory Data Analysis (EDA)](#Exploratory-Data-Analysis-EDA)\n",
    "   - [Descriptive Statistics](#Descriptive-Statistics)\n",
    "   - [Visualizing Relationships](#Visualizing-Relationships)\n",
    "3. [Data Preprocessing](#Data-Preprocessing)\n",
    "   - [Handling Missing Values](#Handling-Missing-Values)\n",
    "   - [Feature Encoding](#Feature-Encoding)\n",
    "   - [Feature Scaling](#Feature-Scaling)\n",
    "4. [Model Training and Evaluation](#Model-Training-and-Evaluation)\n",
    "   - [Linear Regression](#Linear-Regression)\n",
    "   - [Decision Tree](#Decision-Tree)\n",
    "   - [Random Forest](#Random-Forest)\n",
    "   - [XGBoost](#XGBoost)\n",
    "5. [Results and Insights](#Results-and-Insights)\n",
    "6. [Ethical Considerations](#Ethical-Considerations)\n",
    "7. [Reflection and Learning](#Reflection-and-Learning)\n"
   ]
  },
  {
   "cell_type": "markdown",
   "id": "e02623f1-b777-4080-957e-e6f5d5c29413",
   "metadata": {},
   "source": [
    "# 1: Introduction"
   ]
  },
  {
   "cell_type": "markdown",
   "id": "85de2953-f0b6-4f95-90bd-e7dde5de1674",
   "metadata": {},
   "source": [
    "## 1.1: Stakeholders and Motivation"
   ]
  },
  {
   "cell_type": "markdown",
   "id": "33295bd5-3060-499a-9145-2ca3834281ff",
   "metadata": {},
   "source": [
    "This project uses the Medical Cost personal Dataset to analyze healthcare expenses and discover the relationships between individual features and medical charges. The reflection from this study is valuble for mulitple stakeholders\n",
    "1. **Insurance Companies:** Like every other business, Insuarance companies want to avoid any potentiol financial risks. Therefore, having accurate machine learning models to predict medical charges for setting fair premiums is a must in nowadays. \n",
    "3. **Healthcare Policymakers:** Studies like this can help policymakers to understand the financial impact of certain factors like smoking, BMI in order to make certain targeted systems/processes. \n",
    "4. **Individuals:** This study can help individuals to understand how certain lifestyle choices and demographic factors can influance their medical costs. Therefore, this can help individuals make well informed decisions.\n",
    "<br><br>\n",
    "\n",
    "### **Research Questions**\n",
    "1. Which machine learning model provides the best balance of accuracy, interpretability, and efficiency for predicting medical charges: Linear Regression, Decision Tree, Random Forest, or XGBoost?\n",
    "2. How does smoking status impact medical charges compared to other factors?\n",
    "<br><br>\n",
    "\n",
    "#### **Reasons for these Research question selection.**\n",
    "\n",
    "**Question 1.1:** Why compare these four machine learning models?\n",
    "\n",
    "\n",
    "| ML Model         | Reasons                                                                                                                                                                                                                   |\n",
    "|-------------------|---------------------------------------------------------------------------------------------------------------------------------------------------------------------------------------------------------------------------|\n",
    "| Linear Regression | Chosen as a baseline model due to its simploicoity, interpretability and to understand any linear relationships before applying more complex models. Furthure, it's widely used in healthcare sector                             |\n",
    "| Decision Tree     | This can capture non-linear relationships and interactions between features. This can be ideal for variables like BMI and smoking may have non-linear impacts on charges. Often known for easiness of visual representations, which is crucial for explaining certain findings to non-technical stakeholders. |\n",
    "| Random Forest     | This is a ensemble learning method that combines multiple decision trees and it can improve performance metrics while reducing overfitting. Also, its feature importance metric allows to interpret which factors are most influancial |\n",
    "| XGBoost           | This is known for its high accuracy and efficiency. XGBoost is a state-of-the aft boosting algorithm widely used in real world applications.                                                                               |\n",
    "\n",
    "\n",
    "<br><br>\n",
    "**Question 1.2:** Why not Nueral Network, Support vector Machines, Gradient Boosting Variants, and k-Nearest Neighbors?\n",
    "\n",
    "\n",
    "| ML Model                          | Reasons for not using them                                                                                                                                                                                                                   |\n",
    "|-----------------------------------|-----------------------------------------------------------------------------------------------------------------------------------------------------------------------------------------------------------------------------------------------|\n",
    "| Neural Networks                   | Neural networks are powerful but can be unstable for this dataset as: Dataset size: It’s relatively small (~1300 records), which limits the potential of neural networks that usually performs best of large datasets. Interpretability: It can be difficult to explain predictions to stakeholders. Cost: The added complexity and resource requirements aren’t suitable for the dataset’s size and simplicity. |\n",
    "| Support Vector Machines (SVMs)    | SVMs are good for classification tasks but less commonly used for regression due to: Interpretability: Like neural networks, SVMs lack transparency and it’s a must to gain the trust of stakeholders. Hyperparameter Sensitivity: SVMs need extensive tuning, this can be an issue as added workload, complexity without proportional performance gain compared to models like Random Forest or XGBoost. |\n",
    "| Gradient Boosting Variants (CatBoost, LightGBM) | These algorithms are strong competitors to XGBoost, however: Redundancy: There’s no need to include all gradient boosting variants since XGBoost already covers this category effectively. Stakeholder Familiarity: XGBoost is widely recognized in both research and industry. Therefore, it makes an ideal choice for this study. |\n",
    "| k-Nearest Neighbors (k-NN)        | k-NN is simple but not suitable for this project due to: Performance: It often struggles with high-dimensional datasets. Also, it’s sensitive to irrelevant/redundant features. Interpretability: The limitations of feature importance analysis make it less useful when it comes to understanding key factors of medical charges. |\n",
    "\n",
    "\n",
    "\n",
    "**Question 2:** Reasons for the second question?\n",
    "\n",
    "- **Obvious Relevence:** This question is a natural choice for analysis as smoking is a well-known factor linked to health costs (Fishman et al., 2003). Most stakeholders can easily understand its importance.\n",
    "- **Stakeholder Alignment:** This question directly aligns with the interests of stakeholders:\n",
    "  -  Insurance companies need to understad how smoking can impact premiums.\n",
    "  -  Policimakers can design targeted and effective interventions so they can reduce smoking related costs. \n",
    "\n",
    "\n",
    "## 1.2: Dataset Overview\n",
    "\n",
    "The dataset contains the following features\n",
    "- age: Age of the individual.\n",
    "- sex: Gender of the individual (male/female).\n",
    "- bmi: Body Mass Index, indicating the individual's health condition.\n",
    "- children: Number of dependents covered by insurance.\n",
    "- smoker: Smoking status of the individual (yes/no).\n",
    "- region: Geographic region of residence (northeast, southeast, southwest, northwest).\n",
    "- charges: Medical charges billed to the individual (target variable).\n",
    "This dataset provides a mix of numerical and categorical features.\n",
    "\n",
    "## 1.3: Performance Metrics\n",
    "\n",
    "The following metrics will be used to evaluate and compare the selected machine learning models.\n",
    "\n",
    "- Root Mean Squared Error (RMSE)\n",
    "- R² (Coefficient of Determination)\n",
    "- Mean Absolute Error (MAE)\n",
    "- Training and Prediction Time"
   ]
  },
  {
   "cell_type": "markdown",
   "id": "98e059c3-c839-4817-b355-d3e340fbde2c",
   "metadata": {},
   "source": [
    "# 2: Exploratory Data Analysis (EDA)"
   ]
  },
  {
   "cell_type": "markdown",
   "id": "62827a7b-0a4e-4bde-a83c-83f5a060e8fb",
   "metadata": {},
   "source": [
    "## 2.1: Importing libraries "
   ]
  },
  {
   "cell_type": "code",
   "execution_count": 7,
   "id": "1f38131a-e3bd-4c92-b3ba-2510d332adbc",
   "metadata": {},
   "outputs": [],
   "source": [
    "# importing libraries for data manipulation and analysis\n",
    "import pandas as pd\n",
    "import numpy as np\n",
    "\n",
    "#Importing libraries for visualization\n",
    "import matplotlib.pyplot as plt\n",
    "import seaborn as sns\n",
    "\n",
    "# importing crucial libraries for machine learning\n",
    "from sklearn.model_selection import train_test_split\n",
    "from sklearn.linear_model import LinearRegression\n",
    "from sklearn.ensemble import RandomForestRegressor\n",
    "from sklearn.preprocessing import StandardScaler, MinMaxScaler\n",
    "from sklearn.metrics import mean_squared_error, r2_score, mean_absolute_error\n",
    "from keras.models import Sequential\n",
    "from keras.layers import Dense, Dropout\n",
    "from sklearn.impute import SimpleImputer\n",
    "from sklearn.tree import DecisionTreeRegressor\n",
    "from xgboost import XGBRegressor\n",
    "\n",
    "# using warnings library for a clearner output\n",
    "import warnings\n",
    "warnings.filterwarnings('ignore')"
   ]
  },
  {
   "cell_type": "markdown",
   "id": "5da60bba-6fd1-4b5f-8e59-7d0fee58742e",
   "metadata": {},
   "source": [
    "Decided to install all the libraries upfront to avoid any potentiol problems while running the notebook. ix of numerical and categorical features."
   ]
  },
  {
   "cell_type": "markdown",
   "id": "e2023ce4-5baf-4db6-ace6-63b8bb5d5ee5",
   "metadata": {},
   "source": [
    "## 2.2: Data Summarization"
   ]
  },
  {
   "cell_type": "markdown",
   "id": "c2cd6b6f-ed6b-4742-91ef-2c5661f3d0be",
   "metadata": {},
   "source": [
    "### Basic info and first view of the dataset"
   ]
  },
  {
   "cell_type": "code",
   "execution_count": 11,
   "id": "66f1ad0c-0993-4a0c-a67e-b68fc098a335",
   "metadata": {},
   "outputs": [
    {
     "name": "stdout",
     "output_type": "stream",
     "text": [
      "<class 'pandas.core.frame.DataFrame'>\n",
      "RangeIndex: 1338 entries, 0 to 1337\n",
      "Data columns (total 7 columns):\n",
      " #   Column    Non-Null Count  Dtype  \n",
      "---  ------    --------------  -----  \n",
      " 0   age       1318 non-null   float64\n",
      " 1   sex       1338 non-null   object \n",
      " 2   bmi       1338 non-null   float64\n",
      " 3   children  1338 non-null   int64  \n",
      " 4   smoker    1338 non-null   object \n",
      " 5   region    1338 non-null   object \n",
      " 6   charges   1338 non-null   float64\n",
      "dtypes: float64(3), int64(1), object(3)\n",
      "memory usage: 73.3+ KB\n",
      "None\n",
      "\n",
      "=================================================================\n",
      "    age     sex     bmi  children smoker     region      charges\n",
      "0  19.0  female  27.900         0    yes  southwest  16884.92400\n",
      "1  18.0    male  33.770         1     no  southeast   1725.55230\n",
      "2  28.0    male  33.000         3     no  southeast   4449.46200\n",
      "3  33.0    male  22.705         0     no  northwest  21984.47061\n",
      "4  32.0    male  28.880         0     no  northwest   3866.85520\n"
     ]
    }
   ],
   "source": [
    "# loading the adapted insuarance dataset\n",
    "df = pd.read_csv('insurance-adapted.csv')\n",
    "\n",
    "# Display basic structure\n",
    "# Overview of columns, types, and non-null counts\n",
    "print(df.info())  \n",
    "print(\"\\n\" + \"=\"*65)\n",
    " # First 5 rows of the data table\n",
    "print(df.head()) "
   ]
  },
  {
   "cell_type": "markdown",
   "id": "ed43e7ef-baef-4e08-ace4-0efc74c75b9d",
   "metadata": {},
   "source": [
    "### **Dataset Structure**\r\n",
    "- **Rows and Columns**:The dataset contains `1338 rows` and `7 columns`..\r\n",
    "- **Column Descriptions**:\r\n",
    "  - `age`: Age of the individual.\r\n",
    "  - `sex`: Gender of the individual (`male`/`female`).\r\n",
    "  - `bmi`: Body Mass Index, indicating the individual's health condition.\r\n",
    "  - `children`: Number of dependents covered by insurance.\r\n",
    "  - `smoker`: Smoking status of the individual (`yes`/`no`).\r\n",
    "  - `region`: Geographic region of residence (`northeast`, `southeast`, `southwest`, `northwest`).\r\n",
    "  - `charges`: Medical charges billed to the individual (target variable).\r\n"
   ]
  },
  {
   "cell_type": "markdown",
   "id": "4d830ee2-e1eb-4fdf-b65c-25ec4189a6c2",
   "metadata": {},
   "source": [
    "### Basic statistics of the dataset"
   ]
  },
  {
   "cell_type": "code",
   "execution_count": 14,
   "id": "6d6e5e9b-9033-4639-bfe0-f82c798e31db",
   "metadata": {},
   "outputs": [
    {
     "name": "stdout",
     "output_type": "stream",
     "text": [
      "\n",
      "========================================\n",
      "      Summary Statistics (Numerical Columns)      \n",
      "========================================\n",
      "               age          bmi     children       charges\n",
      "count  1318.000000  1338.000000  1338.000000   1338.000000\n",
      "mean     39.216237    30.663397     1.094918  13270.422265\n",
      "std      14.083151     6.098187     1.205493  12110.011237\n",
      "min      18.000000    15.960000     0.000000   1121.873900\n",
      "25%      26.000000    26.296250     0.000000   4740.287150\n",
      "50%      39.000000    30.400000     1.000000   9382.033000\n",
      "75%      51.000000    34.693750     2.000000  16639.912515\n",
      "max      64.000000    53.130000     5.000000  63770.428010\n",
      "\n",
      "========================================\n",
      "      Value Counts for Categorical Columns      \n",
      "========================================\n",
      "\n",
      "Sex Distribution:\n",
      "--------------------\n",
      "sex\n",
      "male      676\n",
      "female    662\n",
      "\n",
      "Smoker Distribution:\n",
      "--------------------\n",
      "smoker\n",
      "no     1064\n",
      "yes     274\n",
      "\n",
      "Region Distribution:\n",
      "--------------------\n",
      "region\n",
      "southeast    364\n",
      "southwest    325\n",
      "northwest    325\n",
      "northeast    324\n"
     ]
    }
   ],
   "source": [
    "# Displaying Summary Statistics\n",
    "print(\"\\n\" + \"=\"*40)\n",
    "print(\"      Summary Statistics (Numerical Columns)      \")\n",
    "print(\"=\"*40)\n",
    "print(df.describe().to_string())\n",
    "\n",
    "# Displaying value counts for categorical columns\n",
    "print(\"\\n\" + \"=\"*40)\n",
    "print(\"      Value Counts for Categorical Columns      \")\n",
    "print(\"=\"*40)\n",
    "\n",
    "print(\"\\nSex Distribution:\")\n",
    "print(\"-\" * 20)\n",
    "print(df['sex'].value_counts().to_string())\n",
    "\n",
    "print(\"\\nSmoker Distribution:\")\n",
    "print(\"-\" * 20)\n",
    "print(df['smoker'].value_counts().to_string())\n",
    "\n",
    "print(\"\\nRegion Distribution:\")\n",
    "print(\"-\" * 20)\n",
    "print(df['region'].value_counts().to_string())\n"
   ]
  },
  {
   "cell_type": "markdown",
   "id": "3d8ca894-d34f-4200-8aef-9216e73a3a76",
   "metadata": {},
   "source": [
    "## 2.3: Missing Data Identification and Treatment"
   ]
  },
  {
   "cell_type": "code",
   "execution_count": 16,
   "id": "af649f1d-ea82-4133-a5d2-ec4b01b793a6",
   "metadata": {},
   "outputs": [
    {
     "name": "stdout",
     "output_type": "stream",
     "text": [
      "Missing Values in Dataset:\n",
      "age         20\n",
      "sex          0\n",
      "bmi          0\n",
      "children     0\n",
      "smoker       0\n",
      "region       0\n",
      "charges      0\n",
      "dtype: int64\n"
     ]
    }
   ],
   "source": [
    "# Checking for missing values\n",
    "print(\"Missing Values in Dataset:\")\n",
    "print(df.isnull().sum())"
   ]
  },
  {
   "cell_type": "markdown",
   "id": "d7f3614d-6322-49aa-bffc-45902e051368",
   "metadata": {},
   "source": [
    "- **Missing values**:\n",
    "  - Total missing values in each column:\n",
    "    - `age`: 0 missing values\n",
    "    - `sex`: 0 missing values\n",
    "    - `bmi`: 0 missing values\n",
    "    - `children`: 0 missing values\n",
    "    - `smoker`: 0 missing values\n",
    "    - `region`: 0 missing values\n",
    "    - `charges`: 0 missing values\n",
    "- **Conclusion**: No missing data detected in the dataset.\n",
    "\n",
    "**Since there are no any missing values present in the dataset, no need for missing values treatment!**"
   ]
  },
  {
   "cell_type": "markdown",
   "id": "54b9f936-debb-4b64-b832-453acafca20f",
   "metadata": {},
   "source": [
    "## 2.3: Encode Categorical Data"
   ]
  },
  {
   "cell_type": "code",
   "execution_count": 19,
   "id": "5aa781f7-96e9-4c67-b295-16bc287a9cc3",
   "metadata": {},
   "outputs": [
    {
     "name": "stdout",
     "output_type": "stream",
     "text": [
      "\n",
      "Transformed Dataset (Head):\n"
     ]
    },
    {
     "ename": "NameError",
     "evalue": "name 'data_encoded' is not defined",
     "output_type": "error",
     "traceback": [
      "\u001b[1;31m---------------------------------------------------------------------------\u001b[0m",
      "\u001b[1;31mNameError\u001b[0m                                 Traceback (most recent call last)",
      "Cell \u001b[1;32mIn[19], line 10\u001b[0m\n\u001b[0;32m      8\u001b[0m \u001b[38;5;66;03m# Displaying the first few rows of the transformed dataset\u001b[39;00m\n\u001b[0;32m      9\u001b[0m \u001b[38;5;28mprint\u001b[39m(\u001b[38;5;124m\"\u001b[39m\u001b[38;5;130;01m\\n\u001b[39;00m\u001b[38;5;124mTransformed Dataset (Head):\u001b[39m\u001b[38;5;124m\"\u001b[39m)\n\u001b[1;32m---> 10\u001b[0m \u001b[38;5;28mprint\u001b[39m(data_encoded\u001b[38;5;241m.\u001b[39mhead())\n",
      "\u001b[1;31mNameError\u001b[0m: name 'data_encoded' is not defined"
     ]
    }
   ],
   "source": [
    "# performing One-hot encoding for 'region'\n",
    "df_encoded = pd.get_dummies(df, columns=['region'], drop_first=True)\n",
    "\n",
    "# Encoding 'sex' and 'smoker'\n",
    "df_encoded['sex'] = df_encoded['sex'].map({'female': 0, 'male': 1})\n",
    "df_encoded['smoker'] = df_encoded['smoker'].map({'no': 0, 'yes': 1})\n",
    "\n",
    "# Displaying the first few rows of the transformed dataset\n",
    "print(\"\\nTransformed Dataset (Head):\")\n",
    "print(data_encoded.head())\n"
   ]
  },
  {
   "cell_type": "markdown",
   "id": "f5135629-f878-4983-983f-8a84f7c2a9f1",
   "metadata": {},
   "source": [
    "**Binary Encoding:**\n",
    "- Columns like **sex** and **smoker** have only 2 unique outcomes in the dataset.\n",
    "- Therefore, binary encoding was performed:\n",
    "  - sex: Female → 0, Male → 1\n",
    "  - smoker: No → 0, Yes → 1\n",
    "\n",
    "**One-Hot Encoding:**\n",
    "- The *region** feature has 4 unique outcomes in the dataset.\n",
    "- One-hot encoding was performed to represent each region as a seperate binary column:\n"
   ]
  },
  {
   "cell_type": "markdown",
   "id": "e8246ad3-5584-4f1c-9c21-d05c23fa126d",
   "metadata": {},
   "source": [
    "## 2.3: Data Visualization"
   ]
  },
  {
   "cell_type": "markdown",
   "id": "3772e7c4-2670-4fbd-93c3-013fc15438ae",
   "metadata": {},
   "source": [
    "### Visualisation of numerical features"
   ]
  },
  {
   "cell_type": "code",
   "execution_count": null,
   "id": "6ffe882f-e79a-4499-8d95-8769f833b042",
   "metadata": {},
   "outputs": [],
   "source": [
    "# definning the numerical columns to visualize\n",
    "numerical_columns = ['age', 'bmi', 'charges']\n",
    "\n",
    "# Creating histograms for each column\n",
    "for col in numerical_columns:\n",
    "    plt.figure(figsize=(8, 5))\n",
    "    sns.histplot(df[col], kde=True, bins=20, color='blue')\n",
    "    plt.title(f'Distribution of {col.capitalize()}')\n",
    "    plt.xlabel(col.capitalize())\n",
    "    plt.ylabel('Frequency')\n",
    "    plt.grid(axis='y', linestyle='--', alpha=0.7)\n",
    "    plt.show()\n"
   ]
  },
  {
   "cell_type": "markdown",
   "id": "de243c6d-080a-4273-adac-f9a7af187694",
   "metadata": {},
   "source": [
    "### Insights from Feature Distributions from numerical features\n",
    "#### `age`:\n",
    "- Distribution is fairly uniform across most age groups. But there is a notable peak in the early 20s.\n",
    "- This suggests a larger representation of younger individuals in the dataset.\n",
    "\n",
    "#### `bmi`:\n",
    "- BMI follows a normal distribution centered around 30 (overweight category).\n",
    "- Outliers with high BMI values (>45) are observed. This may require special attention during analysis.\n",
    "\n",
    "#### `charges`:\n",
    "- Medical charges are highly skewed to the right. Further, most charges below `$20,000`.\n",
    "- The extreme values like those above `$40000` could indicate high-risk individuals (e.g., smokers or individuals with severe health issues).)es.\n",
    "\n",
    "#### General Implication:\n",
    "- The distributions for age, bmi, and charges highlight potential areas for preprocessing:\n",
    "  - Addressing outliers in `bmi` and `charges`.\n",
    "  - Considering a log transformation for `charges` to reduce skewnes. "
   ]
  },
  {
   "cell_type": "markdown",
   "id": "df5525b6-ac0a-4eff-a022-dda01a61f358",
   "metadata": {},
   "source": [
    "### Visualisation of categorical features"
   ]
  },
  {
   "cell_type": "code",
   "execution_count": null,
   "id": "b8ef40e9-5ebf-401d-9a09-65c6beb05870",
   "metadata": {},
   "outputs": [],
   "source": [
    "# List of categorical columns\n",
    "categorical_columns = ['sex', 'smoker', 'region']\n",
    "\n",
    "# Looping through each column and plot\n",
    "for col in categorical_columns:\n",
    "    plt.figure(figsize=(8, 5))\n",
    "    sns.countplot(x=col, data=df, palette='Set2')\n",
    "    plt.title(f'Distribution of {col.capitalize()}')\n",
    "    plt.xlabel(col.capitalize())\n",
    "    plt.ylabel('Frequency')\n",
    "    plt.grid(axis='y', linestyle='--', alpha=0.7)\n",
    "    plt.show()\n",
    "\n",
    "\n",
    "# Plotting distribution of 'children'\n",
    "plt.figure(figsize=(8, 5))\n",
    "sns.countplot(x='children', data=df, palette='Set2', hue=None)  \n",
    "plt.title('Distribution of Children')\n",
    "plt.xlabel('Number of Children')\n",
    "plt.ylabel('Frequency')\n",
    "plt.grid(axis='y', linestyle='--', alpha=0.7)\n",
    "plt.show()"
   ]
  },
  {
   "cell_type": "markdown",
   "id": "afb721ab-2122-489f-9105-46e610e50d10",
   "metadata": {},
   "source": [
    "### Insights from Categorical Feature Distributions\n",
    "#### `sex`:\n",
    "- The dataset is evenly distributed between males and females.\n",
    "- This balance reduces the likelihood of gender-related biases in upcoming model predictions.\n",
    "\n",
    "#### `smoker`:\n",
    "- The bar chart shows that approximately 20–25% of the individuals are smokers. The majority (~75–80%) are non-smokers.\n",
    "- Since the smokers are underrepresented in the dataset, this imbalance can be challanging for models to generalize well for smokers.\n",
    "\n",
    "#### `region`:\n",
    "- The dataset is evenly distributed across the four regions. The Southeast slightly more represented and the Southwest slightly less.\n",
    "- Therefore region-based analyses and predictions are reliable and free from major biases.\n",
    "\n",
    "\n",
    "#### `children`:\n",
    "-  **Most Common Group**: Households with no children (`children = 0`) dominate the dataset.\n",
    "-  **Least Common Groups**: Households with 4 or 5 children are rare.\n",
    "-  **Trend**: There is a clear decreasing trend in frequency as the number of children increases.\n",
    "\n",
    "#### `Implications`:\n",
    "  - Smoking status imbalance may require preprocessing adjustments (e.g., oversampling smokers or applying class weighting) to ensure fair model performance.\n",
    "  - Balanced distributions for `sex` and `region` allow unbiased and reliable insights for gender- and region-based analyses.\n",
    "  - The imbalance in `children` categories may influence model predictions, specially for larger families with 4 or 5 children.\n",
    "  - Further analysis should be done to determine the relationship between the number of children and medical charges. "
   ]
  },
  {
   "cell_type": "markdown",
   "id": "abbfa0c2-fdec-4741-ad0a-d8f27b22c93b",
   "metadata": {},
   "source": [
    "### Scatterplots for Numerical Features vs. charges with smoking status"
   ]
  },
  {
   "cell_type": "code",
   "execution_count": null,
   "id": "5b3a8574-0614-4187-9648-987b226d12cc",
   "metadata": {},
   "outputs": [],
   "source": [
    "# Scatterplot: age vs charges\n",
    "plt.figure(figsize=(8, 5))\n",
    "sns.scatterplot(x='age', y='charges', data=df, hue='smoker', palette='coolwarm', alpha=0.7)\n",
    "plt.title('Scatterplot: Age vs Charges (with Smoking Status)')\n",
    "plt.xlabel('Age')\n",
    "plt.ylabel('Charges')\n",
    "plt.grid(axis='y', linestyle='--', alpha=0.7)\n",
    "plt.show()\n",
    "\n",
    "# Scatterplot: bmi vs charges\n",
    "plt.figure(figsize=(8, 5))\n",
    "sns.scatterplot(x='bmi', y='charges', data=df, hue='smoker', palette='coolwarm', alpha=0.7)\n",
    "plt.title('Scatterplot: BMI vs Charges (with Smoking Status)')\n",
    "plt.xlabel('BMI')\n",
    "plt.ylabel('Charges')\n",
    "plt.grid(axis='y', linestyle='--', alpha=0.7)\n",
    "plt.show()"
   ]
  },
  {
   "cell_type": "markdown",
   "id": "f6876aed-e787-4536-962c-c156dbad5517",
   "metadata": {},
   "source": [
    "### Scatterplots: Numerical Features vs. Charges\n",
    "\n",
    "#### Age vs. Charges\n",
    "- **Trend**: Medical charges generally increase with age.\n",
    "- **Smokers vs. Non-Smokers**: Smokers incur significantly higher charges across all age groups. Also, it's noticibale that the gap widening for older individuals.\n",
    "- **Outliers**: High-charge outliers are often common among older smokers.\n",
    "- **Implications**:\n",
    "  - Age is a meaningful predictor of charges.\n",
    "  - Smoking status interacts strongly with age and significantly impacts charges.\n",
    "\n",
    "#### BMI vs. Charges\n",
    "- **Trend**: Higher BMI correlates with higher charges, especially for individuals classified as overweight or obese.\n",
    "- **Smokers vs. Non-Smokers**: Smokers consistently have higher charges regardless of BMI, while non-smokers show stable, lower charges across all BMI ranges.\n",
    "- **Clusters**: Clear clusters of smokers (high charges) and non-smokers (low charges) are visible.\n",
    "- **Implications**:\n",
    "  - BMI is a moderately strong predictor of charges.\n",
    "  - Smoking status amplifies the effect of BMI on charges.\n",
    "  - Combined analysis of `bmi`, `smoker`, and `charges` is critical.\n"
   ]
  },
  {
   "cell_type": "markdown",
   "id": "cc51450b-73ba-48e7-862c-fb003fba6263",
   "metadata": {},
   "source": [
    "### Enhancing above Scatterplots with Regression Lines"
   ]
  },
  {
   "cell_type": "code",
   "execution_count": null,
   "id": "60695084-a7e3-4c29-8ce4-9798e58c9f54",
   "metadata": {},
   "outputs": [],
   "source": [
    "# Enhancing scatterplot with regression line: age vs charges\n",
    "sns.lmplot(x='age', y='charges', data=df, hue='smoker', palette='coolwarm', height=5, aspect=1.5, scatter_kws={'alpha':0.6})\n",
    "plt.title('Regression Line: Age vs Charges (with Smoking Status)')\n",
    "plt.xlabel('Age')\n",
    "plt.ylabel('Charges')\n",
    "plt.show()\n",
    "\n",
    "# Enhancing scatterplot with regression line: bmi vs charges\n",
    "sns.lmplot(x='bmi', y='charges', data=df, hue='smoker', palette='coolwarm', height=5, aspect=1.5, scatter_kws={'alpha':0.6})\n",
    "plt.title('Regression Line: BMI vs Charges (with Smoking Status)')\n",
    "plt.xlabel('BMI')\n",
    "plt.ylabel('Charges')\n",
    "plt.show()"
   ]
  },
  {
   "cell_type": "markdown",
   "id": "b9769131-ff99-4365-8ceb-c52322734722",
   "metadata": {},
   "source": [
    "### Enhanced Scatterplots: Regression Lines for Numerical Features vs. Charges\n",
    "\n",
    "#### Age vs. Charges\n",
    "- The regression line confirms a positive relationship between `age` and `charges`.\n",
    "- It's clear that mokers have a steeper slope compared to non-smokers. This indicates that medical charges increase faster with age for smokers.\n",
    "- This reinforces the impact of smoking on medical costs across different age groups.\n",
    "\n",
    "#### BMI vs. Charges\n",
    "- The regression lines reveal distinct trends for smokers and non-smokers:\n",
    "  - **Smokers**: A strong positive correlation between `bmi` and `charges`. Higher BMI results in significantly higher charges for smokers.\n",
    "  - **Non-smokers**: A nearly flat regression line, suggesting that BMI has little impact on charges for non-smokers.\n",
    "- These findings highlight the combined influence of smoking and BMI on medical costs.\n"
   ]
  },
  {
   "cell_type": "markdown",
   "id": "40c0570b-2a57-4d4b-9db6-d1adc83ffd72",
   "metadata": {},
   "source": [
    "### Children vs charges [Trend Analysis + Boxplot]"
   ]
  },
  {
   "cell_type": "code",
   "execution_count": null,
   "id": "b420a31e-eb2f-4810-a572-e70b0bcfabc0",
   "metadata": {},
   "outputs": [],
   "source": [
    "# Group data by 'children' and calculate mean and median charges\n",
    "children_grouped = df.groupby('children')['charges'].agg(['mean', 'median']).reset_index()\n",
    "\n",
    "# Line plot for mean and median charges by number of children\n",
    "plt.figure(figsize=(8, 5))\n",
    "plt.plot(children_grouped['children'], children_grouped['mean'], marker='o', label='Mean Charges')\n",
    "plt.plot(children_grouped['children'], children_grouped['median'], marker='s', label='Median Charges')\n",
    "plt.title('Trend of Charges by Number of Children')\n",
    "plt.xlabel('Number of Children')\n",
    "plt.ylabel('Charges')\n",
    "plt.legend()\n",
    "plt.grid(axis='y', linestyle='--', alpha=0.7)\n",
    "plt.show()\n",
    "\n",
    "# Bar plot for mean charges by number of children\n",
    "plt.figure(figsize=(8, 5))\n",
    "sns.barplot(x='children', y='mean', data=children_grouped, palette='coolwarm')\n",
    "plt.title('Average Charges by Number of Children')\n",
    "plt.xlabel('Number of Children')\n",
    "plt.ylabel('Mean Charges')\n",
    "plt.grid(axis='y', linestyle='--', alpha=0.7)\n",
    "plt.show()\n",
    "\n",
    "# Boxplot for variability of charges across children categories\n",
    "plt.figure(figsize=(8, 5))\n",
    "sns.boxplot(x='children', y='charges', data=df, palette='coolwarm')\n",
    "plt.title('Boxplot: Charges by Number of Children')\n",
    "plt.xlabel('Number of Children')\n",
    "plt.ylabel('Charges')\n",
    "plt.grid(axis='y', linestyle='--', alpha=0.7)\n",
    "plt.show()"
   ]
  },
  {
   "cell_type": "markdown",
   "id": "af6f7367-d415-48d2-82a3-06e017aea998",
   "metadata": {},
   "source": [
    "### Analysis of `children` vs. `Charges`\n",
    "\n",
    "#### Key Observations\n",
    "1. **Line Plot**:\n",
    "   - **Mean Charges**:\n",
    "     - Charges increase steadily from 0 to 3 children, peaking around 2–3 children.\n",
    "     - A significant drop in mean charges is observed for families with 4 and 5 children.\n",
    "   - **Median Charges**:\n",
    "     - Median charges show smaller fluctuations but follow a similar decreasing trend for families with 5 children.\n",
    "     - The gap between mean and median charges highlights the presence of high-cost outliers, especially in families with fewer children.\n",
    "\n",
    "2. **Bar Plot**:\n",
    "   - Reinforces the trend in mean charges, showing:\n",
    "     - Highest average charges for families with 2–3 children.\n",
    "     - Lowest average charges for families with 5 children.\n",
    "\n",
    "3. **Box Plot**:\n",
    "   - **Variability**:\n",
    "     - The spread of charges is highest for 2–3 children, indicating more variability in healthcare costs.\n",
    "     - Families with 5 children have the lowest spread and charges, suggesting lower overall healthcare costs.\n",
    "   - **Outliers**:\n",
    "     - Significant outliers (high charges) are visible across all groups but are more concentrated in smaller families (0–3 children).\n",
    "\n",
    "#### Implications\n",
    "- **Trend**:\n",
    "  - Individuals with 0–3 children may prioritize their own healthcare, resulting in higher charges.\n",
    "  - Charges decline sharply for families with 4–5 children. This can may indicate deprioritization of personal healthcare.\n",
    "- **Modeling Insights**:\n",
    "  - The relationship between `children` and `charges` is non-linear. It can make it important to consider interaction terms or group-based encoding for modeling.\n",
    "  - The presence of outliers suggests the need for robust models or preprocessing steps like scaling or trimming.\n"
   ]
  },
  {
   "cell_type": "markdown",
   "id": "c55dc2a5-1c43-4eb6-bba1-fcc19fbde74f",
   "metadata": {},
   "source": [
    "### Smoking vs charges [Bar chart + Boxplot]"
   ]
  },
  {
   "cell_type": "code",
   "execution_count": null,
   "id": "1e0feac3-052b-4148-846f-0d116ca3026c",
   "metadata": {},
   "outputs": [],
   "source": [
    "# Boxplot: Smoker vs Charges\n",
    "plt.figure(figsize=(8, 5))\n",
    "sns.boxplot(x='smoker', y='charges', data=df, palette='coolwarm')\n",
    "plt.title('Boxplot: Charges by Smoking Status')\n",
    "plt.xlabel('Smoking Status')\n",
    "plt.ylabel('Charges')\n",
    "plt.grid(axis='y', linestyle='--', alpha=0.7)\n",
    "plt.show()\n",
    "\n",
    "# Bar Plot for Mean Charges\n",
    "smoker_grouped = df.groupby('smoker')['charges'].agg(['mean', 'median']).reset_index()\n",
    "plt.figure(figsize=(8, 5))\n",
    "sns.barplot(x='smoker', y='mean', data=smoker_grouped, palette='coolwarm')\n",
    "plt.title('Average Charges by Smoking Status')\n",
    "plt.xlabel('Smoking Status')\n",
    "plt.ylabel('Mean Charges')\n",
    "plt.grid(axis='y', linestyle='--', alpha=0.7)\n",
    "plt.show()"
   ]
  },
  {
   "cell_type": "markdown",
   "id": "bdee1b72-0758-4394-9a9e-fd990782d351",
   "metadata": {},
   "source": [
    "### Analysis of `smoker` vs. `Charges`"
   ]
  },
  {
   "cell_type": "markdown",
   "id": "7ab09217-0784-440c-8f99-99f892033ad2",
   "metadata": {},
   "source": [
    "#### Key Observations\n",
    "\n",
    "1. **Boxplot**:\n",
    "   - **Smokers**:\n",
    "     - Have significantly higher medical charges compared to non-smokers.\n",
    "     - Show greater variability in charges, as indicated by a wider interquartile range (IQR).\n",
    "   - **Non-Smokers**:\n",
    "     - Have lower and more consistent charges.\n",
    "     - Show visible outliers with exceptionally high charges, potentially due to severe health conditions unrelated to smoking.\n",
    "\n",
    "2. **Bar Plot**:\n",
    "   - The mean charges for smokers are more than **3 times higher** than those for non-smokers.\n",
    "   - This highlights the strong impact of smoking on medical expenses.\n",
    "\n",
    "#### Implications\n",
    "- Smoking status is a dominant factor influencing medical costs.\n",
    "- The variability in charges among smokers may reflect smoking-related illnesses with varying severity.\n",
    "- The presence of outliers among non-smokers suggests that factors other than smoking like, chronic conditions, age might also contribute to high medical charges."
   ]
  },
  {
   "cell_type": "markdown",
   "id": "dddac044-44c5-4203-bcb6-0fcf9441528a",
   "metadata": {},
   "source": [
    "### Smoking vs charges [Bar chart + Boxplot]: Enhanced code"
   ]
  },
  {
   "cell_type": "code",
   "execution_count": null,
   "id": "7b02d522-e3ad-4582-aba1-084cfdc66540",
   "metadata": {},
   "outputs": [],
   "source": [
    "from scipy.stats import ttest_ind\n",
    "\n",
    "# Performing a t-test to test the difference in charges between smokers and non-smokers\n",
    "smoker_charges = df[df['smoker'] == 'yes']['charges']\n",
    "non_smoker_charges = df[df['smoker'] == 'no']['charges']\n",
    "t_stat, p_value = ttest_ind(smoker_charges, non_smoker_charges, equal_var=False)\n",
    "\n",
    "# Enhanced Boxplot with Statistical Annotation\n",
    "plt.figure(figsize=(8, 5))\n",
    "sns.boxplot(x='smoker', y='charges', data=df, palette='coolwarm')\n",
    "\n",
    "# Annotating p-value on the plot\n",
    "plt.title(f'Boxplot: Charges by Smoking Status (p-value = {p_value:.2e})')\n",
    "plt.xlabel('Smoking Status')\n",
    "plt.ylabel('Charges')\n",
    "plt.grid(axis='y', linestyle='--', alpha=0.7)\n",
    "\n",
    "# Overlaying Mean/Median Lines\n",
    "mean_smoker = smoker_charges.mean()\n",
    "mean_non_smoker = non_smoker_charges.mean()\n",
    "plt.axhline(mean_smoker, color='blue', linestyle='--', label=f'Mean (Smoker): {mean_smoker:.2f}')\n",
    "plt.axhline(mean_non_smoker, color='orange', linestyle='--', label=f'Mean (Non-Smoker): {mean_non_smoker:.2f}')\n",
    "plt.legend()\n",
    "plt.show()\n"
   ]
  },
  {
   "cell_type": "markdown",
   "id": "ae9d9c92-7869-44c3-a673-1cb4c8ef2dc0",
   "metadata": {},
   "source": [
    "### Enhanced Analysis of `smoker` vs. Charges\n",
    "\n",
    "#### Key Observations\n",
    "1. **Mean Charges**:\n",
    "   - Smokers incur an average medical charge of **32,050**, nearly **4 times higher** than non-smokers (**8,434**).\n",
    "2. **Variability**:\n",
    "   - Smokers show greater variability in charges, as reflected by a wider interquartile range (IQR).\n",
    "   - Non-smokers have less variability but include visible outliers with very high charges.\n",
    "3. **Statistical Significance**:\n",
    "   - The p-value from the t-test is **5.89e-103**. This clearly confirms that the difference in charges between smokers and non-smokers is statistically significant.\n",
    "   - This small p-value means the likelihood of this difference occurring by random chance is effectively zero.\n",
    "\n",
    "#### Implications for Modeling\n",
    "- Smoking status (`smoker`) is expected to be a **strong predictor** of medical charges.\n",
    "- Interaction effects (e.g., `smoker` with `bmi`) may further improve the model's performance.\n",
    "- Outliers in non-smokers should be considered during preprocessing to avoid skewing the model.\n"
   ]
  },
  {
   "cell_type": "markdown",
   "id": "879dd10d-8dc2-439c-99cb-6a049239843f",
   "metadata": {},
   "source": [
    "### Region vs charges [Bar chart + Boxplot]"
   ]
  },
  {
   "cell_type": "code",
   "execution_count": null,
   "id": "4b25ff7d-f84a-4cde-9d14-7c23ff8fb7a9",
   "metadata": {},
   "outputs": [],
   "source": [
    "# Boxplot: Region vs Charges\n",
    "plt.figure(figsize=(8, 5))\n",
    "sns.boxplot(x='region', y='charges', data=df, palette='coolwarm')\n",
    "plt.title('Boxplot: Charges by Region')\n",
    "plt.xlabel('Region')\n",
    "plt.ylabel('Charges')\n",
    "plt.grid(axis='y', linestyle='--', alpha=0.7)\n",
    "plt.show()\n",
    "\n",
    "# Bar Plot: Average Charges by Region\n",
    "region_grouped = df.groupby('region')['charges'].agg(['mean', 'median']).reset_index()\n",
    "plt.figure(figsize=(8, 5))\n",
    "sns.barplot(x='region', y='mean', data=region_grouped, palette='coolwarm')\n",
    "plt.title('Average Charges by Region')\n",
    "plt.xlabel('Region')\n",
    "plt.ylabel('Mean Charges')\n",
    "plt.grid(axis='y', linestyle='--', alpha=0.7)\n",
    "plt.show()"
   ]
  },
  {
   "cell_type": "markdown",
   "id": "c0341f4c-872c-48bd-8b00-00c9b80c651e",
   "metadata": {},
   "source": [
    "### Insights from Region vs. Charges\n",
    "\n",
    "- **Southeast** region has the **highest average charges**, followed by the **northeast**.\n",
    "- **Southwest** and **northwest** regions show slightly lower mean charges, with minimal differences.\n",
    "- Variability is higher in the **southeast**, with more extreme outliers.\n",
    "- **General Trend**: Regional differences are **minor**. This suggests **region** may have a weaker influence compared to other features.\n",
    "\n",
    "### Implication\n",
    "\n",
    "- `region` will be retained as a categorical feature for modeling.\n",
    "- Its impact is likely secondary to stronger predictors like **smoker** and **bmi**.\n"
   ]
  },
  {
   "cell_type": "markdown",
   "id": "14461cb1-dc55-428a-ac03-0d3271e79d6c",
   "metadata": {},
   "source": [
    "### Sex vs charges [Bar chart + Boxplot]"
   ]
  },
  {
   "cell_type": "code",
   "execution_count": null,
   "id": "94e4e3a2-7261-4e8b-a988-dba7fcce8b04",
   "metadata": {},
   "outputs": [],
   "source": [
    "# Boxplot: Charges by Gender\n",
    "plt.figure(figsize=(8, 5))\n",
    "sns.boxplot(x='sex', y='charges', data=df, palette='coolwarm')\n",
    "plt.title('Boxplot: Charges by Gender')\n",
    "plt.xlabel('Gender')\n",
    "plt.ylabel('Charges')\n",
    "plt.grid(axis='y', linestyle='--', alpha=0.7)\n",
    "plt.show()\n",
    "\n",
    "# Bar Plot: Average Charges by Gender\n",
    "sex_grouped = df.groupby('sex')['charges'].agg(['mean', 'median']).reset_index()\n",
    "plt.figure(figsize=(8, 5))\n",
    "sns.barplot(x='sex', y='mean', data=sex_grouped, palette='coolwarm')\n",
    "plt.title('Average Charges by Gender')\n",
    "plt.xlabel('Gender')\n",
    "plt.ylabel('Mean Charges')\n",
    "plt.grid(axis='y', linestyle='--', alpha=0.7)\n",
    "plt.show()\n"
   ]
  },
  {
   "cell_type": "markdown",
   "id": "de155be4-7f9b-4505-aa25-92091618f9bc",
   "metadata": {},
   "source": [
    "### Insights from Sex vs. Charges\r\n",
    "\r\n",
    "- The distributions of charges for **males** and **females** are nearly identical.\r\n",
    "- Mean charges are slightly higher for **males**, but the difference is negligible.\r\n",
    "- Outliers are present in both groups, with no significant difference in variability.\r\n",
    "\r\n",
    "### Implication\r\n",
    "\r\n",
    "- `sex` will be included as a feature, but it is expected to have minimal influence on charges compared to stronger predictors like `smoker` and `bmi`.\r\n"
   ]
  },
  {
   "cell_type": "markdown",
   "id": "152e5419-0953-479c-abe5-883c28a9fd67",
   "metadata": {},
   "source": [
    "### Advanced Data Visualization: Correlation Heatmap"
   ]
  },
  {
   "cell_type": "code",
   "execution_count": null,
   "id": "ffea977c-a373-49d3-afff-87c1567a846d",
   "metadata": {},
   "outputs": [],
   "source": [
    "# Compute correlation matrix (all numerical and encoded categorical data)\n",
    "correlation_matrix = data_encoded.corr()\n",
    "\n",
    "# Plot heatmap\n",
    "plt.figure(figsize=(10, 6))\n",
    "sns.heatmap(correlation_matrix, annot=True, fmt=\".2f\", cmap='coolwarm', cbar=True, square=True)\n",
    "plt.title('Correlation Heatmap: Numerical and Encoded Features')\n",
    "plt.show()\n"
   ]
  },
  {
   "cell_type": "code",
   "execution_count": null,
   "id": "c299c5af-ca3e-4a6f-a342-5db78519c126",
   "metadata": {},
   "outputs": [],
   "source": [
    "print(df.dtypes)\n",
    "\n"
   ]
  },
  {
   "cell_type": "code",
   "execution_count": null,
   "id": "474332ba-aa1e-4ac7-aaf0-54d4729ebba8",
   "metadata": {},
   "outputs": [],
   "source": []
  },
  {
   "cell_type": "code",
   "execution_count": null,
   "id": "1482dfa5-c08f-4b2d-98bf-c54a339f13d4",
   "metadata": {},
   "outputs": [],
   "source": []
  },
  {
   "cell_type": "code",
   "execution_count": null,
   "id": "fc7dfedf-fe05-44e8-8302-f6f3fb398f09",
   "metadata": {},
   "outputs": [],
   "source": []
  },
  {
   "cell_type": "code",
   "execution_count": null,
   "id": "6ea14ab0-7765-4941-a670-849ca1cb90cd",
   "metadata": {},
   "outputs": [],
   "source": []
  },
  {
   "cell_type": "code",
   "execution_count": null,
   "id": "1b3eca66-8296-4323-b11a-dbf4ab9a7ff6",
   "metadata": {},
   "outputs": [],
   "source": []
  },
  {
   "cell_type": "code",
   "execution_count": null,
   "id": "aef50f99-52dc-4d79-971c-3c2b2795ce5b",
   "metadata": {},
   "outputs": [],
   "source": []
  },
  {
   "cell_type": "code",
   "execution_count": null,
   "id": "1717e7db-af14-4db8-a3bb-c01fb2d575de",
   "metadata": {},
   "outputs": [],
   "source": []
  },
  {
   "cell_type": "code",
   "execution_count": null,
   "id": "47c8b213-1d1d-478d-b52d-fd8d698567b4",
   "metadata": {},
   "outputs": [],
   "source": []
  },
  {
   "cell_type": "code",
   "execution_count": null,
   "id": "56cf473e-5e44-4919-81fa-95302c11f71f",
   "metadata": {},
   "outputs": [],
   "source": []
  },
  {
   "cell_type": "markdown",
   "id": "243b802f-99a6-4366-a24e-709b2275c620",
   "metadata": {},
   "source": [
    "# References"
   ]
  },
  {
   "cell_type": "markdown",
   "id": "0332b16a-4647-4d0f-9319-b1fde6e525bd",
   "metadata": {},
   "source": [
    "Fishman, P.A., Khan, Z.M., Thompson, E.E., and Curry, S.J. (2003) 'Health Care Costs among Smokers, Former Smokers, and Never Smokers in an HMO', *Health Services Research*, 38(2), pp. 733–749. Available from: [https://pmc.ncbi.nlm.nih.gov/articles/PMC1360912/](https://pmc.ncbi.nlm.nih.gov/articles/PMC1360912/) [Accessed 28 November 2024]."
   ]
  },
  {
   "cell_type": "code",
   "execution_count": null,
   "id": "e4a87294-f6f9-4e8a-863d-a51ab8c2623b",
   "metadata": {},
   "outputs": [],
   "source": []
  }
 ],
 "metadata": {
  "kernelspec": {
   "display_name": "Python 3 (ipykernel)",
   "language": "python",
   "name": "python3"
  },
  "language_info": {
   "codemirror_mode": {
    "name": "ipython",
    "version": 3
   },
   "file_extension": ".py",
   "mimetype": "text/x-python",
   "name": "python",
   "nbconvert_exporter": "python",
   "pygments_lexer": "ipython3",
   "version": "3.12.4"
  }
 },
 "nbformat": 4,
 "nbformat_minor": 5
}
